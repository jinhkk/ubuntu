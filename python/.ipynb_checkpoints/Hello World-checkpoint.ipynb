{
 "cells": [
  {
   "cell_type": "code",
   "execution_count": 4,
   "id": "2242b39a-9984-457a-9a8f-9fef24e14cc1",
   "metadata": {},
   "outputs": [
    {
     "name": "stdout",
     "output_type": "stream",
     "text": [
      "Hello World!!\n"
     ]
    }
   ],
   "source": [
    "print('Hello World!!')"
   ]
  },
  {
   "cell_type": "markdown",
   "id": "9c2a7a48-d9ac-4246-95ab-38da41b3da04",
   "metadata": {},
   "source": [
    "# Big Title\n",
    "## Midium Title\n",
    "### Small Title"
   ]
  },
  {
   "cell_type": "markdown",
   "id": "0cf68e80-9ebc-484d-996a-31aaf17fac9d",
   "metadata": {},
   "source": [
    "### List without number\n",
    "* Item\n",
    "* Item\n",
    "### List with number\n",
    "1. Item\n",
    "2. Item"
   ]
  },
  {
   "cell_type": "markdown",
   "id": "080dd0c5-e80b-484b-a738-52a361e968fa",
   "metadata": {},
   "source": [
    "*italic*\n",
    "**bold**\n",
    "***both***\n",
    "\n",
    "> I'm your father\n",
    "```python\n",
    "def hello():\n",
    "    print('Hello')\n",
    "```\n"
   ]
  },
  {
   "cell_type": "code",
   "execution_count": null,
   "id": "079794c1-9047-4503-ac84-c4ba8f7a1af5",
   "metadata": {},
   "outputs": [],
   "source": []
  }
 ],
 "metadata": {
  "kernelspec": {
   "display_name": "Python 3 (ipykernel)",
   "language": "python",
   "name": "python3"
  },
  "language_info": {
   "codemirror_mode": {
    "name": "ipython",
    "version": 3
   },
   "file_extension": ".py",
   "mimetype": "text/x-python",
   "name": "python",
   "nbconvert_exporter": "python",
   "pygments_lexer": "ipython3",
   "version": "3.10.12"
  }
 },
 "nbformat": 4,
 "nbformat_minor": 5
}
